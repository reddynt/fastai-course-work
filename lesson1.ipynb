{
 "cells": [
  {
   "cell_type": "code",
   "execution_count": 1,
   "id": "d1326384",
   "metadata": {},
   "outputs": [],
   "source": [
    "!pip install -Uqq duckduckgo_search"
   ]
  },
  {
   "cell_type": "code",
   "execution_count": 1,
   "id": "38abd7d4",
   "metadata": {},
   "outputs": [],
   "source": [
    "from pathlib import Path\n",
    "from time import sleep\n",
    "\n",
    "from duckduckgo_search import ddg_images\n",
    "from fastcore.all import *"
   ]
  },
  {
   "cell_type": "code",
   "execution_count": 2,
   "id": "37a5d4f5",
   "metadata": {},
   "outputs": [],
   "source": [
    "def search_images(term, max_images=200):\n",
    "    return L(ddg_images(term, max_results=max_images)).itemgot(\"image\")"
   ]
  },
  {
   "cell_type": "code",
   "execution_count": 3,
   "id": "a82ed610",
   "metadata": {},
   "outputs": [
    {
     "data": {
      "text/plain": [
       "'https://i5.walmartimages.com/asr/db58db17-4ccd-4c13-b46f-3c9fb3e062e0_1.37902d6185c021734c35acfe653cc7d9.jpeg'"
      ]
     },
     "execution_count": 3,
     "metadata": {},
     "output_type": "execute_result"
    }
   ],
   "source": [
    "urls = search_images(\"baseball bat\", max_images=1)\n",
    "urls[0]"
   ]
  },
  {
   "cell_type": "markdown",
   "id": "42860a0f",
   "metadata": {},
   "source": [
    "## Instead of bird and forest, it is cricket bat vs baseball bat vs tennis racket"
   ]
  },
  {
   "cell_type": "code",
   "execution_count": 4,
   "id": "940ad90c",
   "metadata": {},
   "outputs": [
    {
     "data": {
      "text/html": [
       "\n",
       "<style>\n",
       "    /* Turns off some styling */\n",
       "    progress {\n",
       "        /* gets rid of default border in Firefox and Opera. */\n",
       "        border: none;\n",
       "        /* Needs to be in here for Safari polyfill so background images work as expected. */\n",
       "        background-size: auto;\n",
       "    }\n",
       "    progress:not([value]), progress:not([value])::-webkit-progress-bar {\n",
       "        background: repeating-linear-gradient(45deg, #7e7e7e, #7e7e7e 10px, #5c5c5c 10px, #5c5c5c 20px);\n",
       "    }\n",
       "    .progress-bar-interrupted, .progress-bar-interrupted::-webkit-progress-bar {\n",
       "        background: #F44336;\n",
       "    }\n",
       "</style>\n"
      ],
      "text/plain": [
       "<IPython.core.display.HTML object>"
      ]
     },
     "metadata": {},
     "output_type": "display_data"
    },
    {
     "data": {
      "text/html": [
       "\n",
       "    <div>\n",
       "      <progress value='98304' class='' max='97328' style='width:300px; height:20px; vertical-align: middle;'></progress>\n",
       "      101.00% [98304/97328 00:00&lt;00:00]\n",
       "    </div>\n",
       "    "
      ],
      "text/plain": [
       "<IPython.core.display.HTML object>"
      ]
     },
     "metadata": {},
     "output_type": "display_data"
    },
    {
     "data": {
      "text/plain": [
       "Path('resources/baseball_bat.jpg')"
      ]
     },
     "execution_count": 4,
     "metadata": {},
     "output_type": "execute_result"
    }
   ],
   "source": [
    "from fastdownload import download_url\n",
    "dest = \"./resources/baseball_bat.jpg\"\n",
    "download_url(urls[0], dest)"
   ]
  },
  {
   "cell_type": "code",
   "execution_count": 5,
   "id": "d59ea359",
   "metadata": {},
   "outputs": [
    {
     "data": {
      "image/png": "[encoded data removed]",
      "text/plain": [
       "<PIL.Image.Image image mode=RGB size=256x256>"
      ]
     },
     "execution_count": 5,
     "metadata": {},
     "output_type": "execute_result"
    }
   ],
   "source": [
    "from fastai.vision.all import *\n",
    "im = Image.open(dest)\n",
    "im.to_thumb(256, 256)"
   ]
  },
  {
   "cell_type": "code",
   "execution_count": 6,
   "id": "1845442f",
   "metadata": {},
   "outputs": [
    {
     "data": {
      "text/plain": [
       "'https://res-5.cloudinary.com/s247/image/upload/c_pad,dpr_1.0,f_auto,q_auto/media/catalog/product/w/o/woodworm-cricket-ib-select-grade-1-cricket-bat.png'"
      ]
     },
     "execution_count": 6,
     "metadata": {},
     "output_type": "execute_result"
    }
   ],
   "source": [
    "urls = search_images(\"cricket bat\", max_images=1)\n",
    "urls[0]"
   ]
  },
  {
   "cell_type": "code",
   "execution_count": 7,
   "id": "b825dddd",
   "metadata": {},
   "outputs": [
    {
     "data": {
      "text/html": [
       "\n",
       "<style>\n",
       "    /* Turns off some styling */\n",
       "    progress {\n",
       "        /* gets rid of default border in Firefox and Opera. */\n",
       "        border: none;\n",
       "        /* Needs to be in here for Safari polyfill so background images work as expected. */\n",
       "        background-size: auto;\n",
       "    }\n",
       "    progress:not([value]), progress:not([value])::-webkit-progress-bar {\n",
       "        background: repeating-linear-gradient(45deg, #7e7e7e, #7e7e7e 10px, #5c5c5c 10px, #5c5c5c 20px);\n",
       "    }\n",
       "    .progress-bar-interrupted, .progress-bar-interrupted::-webkit-progress-bar {\n",
       "        background: #F44336;\n",
       "    }\n",
       "</style>\n"
      ],
      "text/plain": [
       "<IPython.core.display.HTML object>"
      ]
     },
     "metadata": {},
     "output_type": "display_data"
    },
    {
     "data": {
      "text/html": [
       "\n",
       "    <div>\n",
       "      <progress value='40960' class='' max='34922' style='width:300px; height:20px; vertical-align: middle;'></progress>\n",
       "      117.29% [40960/34922 00:00&lt;00:00]\n",
       "    </div>\n",
       "    "
      ],
      "text/plain": [
       "<IPython.core.display.HTML object>"
      ]
     },
     "metadata": {},
     "output_type": "display_data"
    },
    {
     "data": {
      "text/plain": [
       "Path('resources/cricket_bat.jpg')"
      ]
     },
     "execution_count": 7,
     "metadata": {},
     "output_type": "execute_result"
    }
   ],
   "source": [
    "dest = \"./resources/cricket_bat.jpg\"\n",
    "download_url(urls[0], dest)"
   ]
  },
  {
   "cell_type": "code",
   "execution_count": 8,
   "id": "c92bf5af",
   "metadata": {},
   "outputs": [
    {
     "data": {
      "image/png": "[encoded data removed]",
      "text/plain": [
       "<PIL.Image.Image image mode=RGBA size=256x256>"
      ]
     },
     "execution_count": 8,
     "metadata": {},
     "output_type": "execute_result"
    }
   ],
   "source": [
    "Image.open(dest).to_thumb(256, 256)"
   ]
  },
  {
   "cell_type": "code",
   "execution_count": 9,
   "id": "64448016",
   "metadata": {},
   "outputs": [],
   "source": [
    "# downloading multiple images of each of the category"
   ]
  },
  {
   "cell_type": "code",
   "execution_count": 11,
   "id": "8e77b2ab",
   "metadata": {},
   "outputs": [],
   "source": [
    "categories = [\"cricket bat\", \"baseball bat\", \"tennis racket\"]\n",
    "path = Path(\"./resources/which_bat\")"
   ]
  },
  {
   "cell_type": "code",
   "execution_count": 36,
   "id": "91d3abc6",
   "metadata": {},
   "outputs": [
    {
     "name": "stdout",
     "output_type": "stream",
     "text": [
      "███████████\r"
     ]
    }
   ],
   "source": [
    "for cat in categories:\n",
    "    dest = path/cat\n",
    "    dest.mkdir(exist_ok=True, parents=True)\n",
    "    download_images(dest, urls=search_images(f\"{cat} photo\"))\n",
    "    sleep(10)\n",
    "    download_images(dest, urls=search_images(f\"playing with {cat} photo\"))\n",
    "    sleep(10)\n",
    "    download_images(dest, urls=search_images(f\"posing with {cat} photo\"))"
   ]
  },
  {
   "cell_type": "code",
   "execution_count": 14,
   "id": "24296878",
   "metadata": {},
   "outputs": [],
   "source": [
    "# added max_workers argument in below code, as the earlier was raising exception broken process pool "
   ]
  },
  {
   "cell_type": "code",
   "execution_count": 13,
   "id": "a183006d",
   "metadata": {},
   "outputs": [],
   "source": [
    "for cat in categories:\n",
    "    resize_images(path/cat, max_size=400, dest=path/cat, max_workers=1)"
   ]
  },
  {
   "cell_type": "markdown",
   "id": "9d61e460",
   "metadata": {},
   "source": [
    "## Traing the model"
   ]
  },
  {
   "cell_type": "code",
   "execution_count": 22,
   "id": "9ef6f9c3",
   "metadata": {
    "collapsed": true
   },
   "outputs": [
    {
     "name": "stdout",
     "output_type": "stream",
     "text": [
      "Collecting nbdev\n",
      "  Downloading nbdev-2.2.2-py3-none-any.whl (64 kB)\n",
      "Collecting ghapi\n",
      "  Downloading ghapi-1.0.0-py3-none-any.whl (55 kB)\n",
      "Requirement already satisfied: PyYAML in c:\\users\\tharu\\miniconda3\\envs\\torch_env\\lib\\site-packages (from nbdev) (6.0)\n",
      "Collecting astunparse\n",
      "  Downloading astunparse-1.6.3-py2.py3-none-any.whl (12 kB)\n",
      "Requirement already satisfied: fastcore>=1.5.18 in c:\\users\\tharu\\miniconda3\\envs\\torch_env\\lib\\site-packages (from nbdev) (1.5.18)\n",
      "Collecting execnb>=0.0.10\n",
      "  Downloading execnb-0.1.1-py3-none-any.whl (14 kB)\n",
      "Requirement already satisfied: ipython in c:\\users\\tharu\\miniconda3\\envs\\torch_env\\lib\\site-packages (from execnb>=0.0.10->nbdev) (8.3.0)\n",
      "Requirement already satisfied: pip in c:\\users\\tharu\\miniconda3\\envs\\torch_env\\lib\\site-packages (from fastcore>=1.5.18->nbdev) (21.2.4)\n",
      "Requirement already satisfied: packaging in c:\\users\\tharu\\miniconda3\\envs\\torch_env\\lib\\site-packages (from fastcore>=1.5.18->nbdev) (21.3)\n",
      "Requirement already satisfied: wheel<1.0,>=0.23.0 in c:\\users\\tharu\\miniconda3\\envs\\torch_env\\lib\\site-packages (from astunparse->nbdev) (0.37.1)\n",
      "Requirement already satisfied: six<2.0,>=1.6.1 in c:\\users\\tharu\\miniconda3\\envs\\torch_env\\lib\\site-packages (from astunparse->nbdev) (1.16.0)\n",
      "Requirement already satisfied: traitlets>=5 in c:\\users\\tharu\\miniconda3\\envs\\torch_env\\lib\\site-packages (from ipython->execnb>=0.0.10->nbdev) (5.1.1)\n",
      "Requirement already satisfied: prompt-toolkit!=3.0.0,!=3.0.1,<3.1.0,>=2.0.0 in c:\\users\\tharu\\miniconda3\\envs\\torch_env\\lib\\site-packages (from ipython->execnb>=0.0.10->nbdev) (3.0.20)\n",
      "Requirement already satisfied: decorator in c:\\users\\tharu\\miniconda3\\envs\\torch_env\\lib\\site-packages (from ipython->execnb>=0.0.10->nbdev) (5.1.1)\n",
      "Requirement already satisfied: matplotlib-inline in c:\\users\\tharu\\miniconda3\\envs\\torch_env\\lib\\site-packages (from ipython->execnb>=0.0.10->nbdev) (0.1.2)\n",
      "Requirement already satisfied: jedi>=0.16 in c:\\users\\tharu\\miniconda3\\envs\\torch_env\\lib\\site-packages (from ipython->execnb>=0.0.10->nbdev) (0.18.1)\n",
      "Requirement already satisfied: setuptools>=18.5 in c:\\users\\tharu\\miniconda3\\envs\\torch_env\\lib\\site-packages (from ipython->execnb>=0.0.10->nbdev) (61.2.0)\n",
      "Requirement already satisfied: stack-data in c:\\users\\tharu\\miniconda3\\envs\\torch_env\\lib\\site-packages (from ipython->execnb>=0.0.10->nbdev) (0.2.0)\n",
      "Requirement already satisfied: colorama in c:\\users\\tharu\\miniconda3\\envs\\torch_env\\lib\\site-packages (from ipython->execnb>=0.0.10->nbdev) (0.4.4)\n",
      "Requirement already satisfied: pygments>=2.4.0 in c:\\users\\tharu\\miniconda3\\envs\\torch_env\\lib\\site-packages (from ipython->execnb>=0.0.10->nbdev) (2.11.2)\n",
      "Requirement already satisfied: pickleshare in c:\\users\\tharu\\miniconda3\\envs\\torch_env\\lib\\site-packages (from ipython->execnb>=0.0.10->nbdev) (0.7.5)\n",
      "Requirement already satisfied: backcall in c:\\users\\tharu\\miniconda3\\envs\\torch_env\\lib\\site-packages (from ipython->execnb>=0.0.10->nbdev) (0.2.0)\n",
      "Requirement already satisfied: parso<0.9.0,>=0.8.0 in c:\\users\\tharu\\miniconda3\\envs\\torch_env\\lib\\site-packages (from jedi>=0.16->ipython->execnb>=0.0.10->nbdev) (0.8.3)\n",
      "Requirement already satisfied: wcwidth in c:\\users\\tharu\\miniconda3\\envs\\torch_env\\lib\\site-packages (from prompt-toolkit!=3.0.0,!=3.0.1,<3.1.0,>=2.0.0->ipython->execnb>=0.0.10->nbdev) (0.2.5)\n",
      "Requirement already satisfied: pyparsing!=3.0.5,>=2.0.2 in c:\\users\\tharu\\miniconda3\\envs\\torch_env\\lib\\site-packages (from packaging->fastcore>=1.5.18->nbdev) (3.0.4)\n",
      "Requirement already satisfied: pure-eval in c:\\users\\tharu\\miniconda3\\envs\\torch_env\\lib\\site-packages (from stack-data->ipython->execnb>=0.0.10->nbdev) (0.2.2)\n",
      "Requirement already satisfied: asttokens in c:\\users\\tharu\\miniconda3\\envs\\torch_env\\lib\\site-packages (from stack-data->ipython->execnb>=0.0.10->nbdev) (2.0.5)\n",
      "Requirement already satisfied: executing in c:\\users\\tharu\\miniconda3\\envs\\torch_env\\lib\\site-packages (from stack-data->ipython->execnb>=0.0.10->nbdev) (0.8.3)\n",
      "Installing collected packages: ghapi, execnb, astunparse, nbdev\n",
      "Successfully installed astunparse-1.6.3 execnb-0.1.1 ghapi-1.0.0 nbdev-2.2.2\n"
     ]
    }
   ],
   "source": [
    "!pip install nbdev"
   ]
  },
  {
   "cell_type": "code",
   "execution_count": 25,
   "id": "ab62c768",
   "metadata": {},
   "outputs": [
    {
     "ename": "BrokenProcessPool",
     "evalue": "A process in the process pool was terminated abruptly while the future was running or pending.",
     "output_type": "error",
     "traceback": [
      "\u001b[1;31m---------------------------------------------------------------------------\u001b[0m",
      "\u001b[1;31mBrokenProcessPool\u001b[0m                         Traceback (most recent call last)",
      "Input \u001b[1;32mIn [25]\u001b[0m, in \u001b[0;36m<cell line: 2>\u001b[1;34m()\u001b[0m\n\u001b[0;32m      1\u001b[0m file_paths \u001b[38;5;241m=\u001b[39m get_image_files(path)\n\u001b[1;32m----> 2\u001b[0m failed \u001b[38;5;241m=\u001b[39m \u001b[43mverify_images\u001b[49m\u001b[43m(\u001b[49m\u001b[43mfile_paths\u001b[49m\u001b[43m)\u001b[49m\n\u001b[0;32m      3\u001b[0m failed\u001b[38;5;241m.\u001b[39mmap(Path\u001b[38;5;241m.\u001b[39munlink)\n\u001b[0;32m      4\u001b[0m \u001b[38;5;28mlen\u001b[39m(failed)\n",
      "File \u001b[1;32m~\\miniconda3\\envs\\torch_env\\lib\\site-packages\\fastai\\vision\\utils.py:66\u001b[0m, in \u001b[0;36mverify_images\u001b[1;34m(fns)\u001b[0m\n\u001b[0;32m     64\u001b[0m \u001b[38;5;28;01mdef\u001b[39;00m \u001b[38;5;21mverify_images\u001b[39m(fns):\n\u001b[0;32m     65\u001b[0m     \u001b[38;5;124m\"\u001b[39m\u001b[38;5;124mFind images in `fns` that can\u001b[39m\u001b[38;5;124m'\u001b[39m\u001b[38;5;124mt be opened\u001b[39m\u001b[38;5;124m\"\u001b[39m\n\u001b[1;32m---> 66\u001b[0m     \u001b[38;5;28;01mreturn\u001b[39;00m L(fns[i] \u001b[38;5;28;01mfor\u001b[39;00m i,o \u001b[38;5;129;01min\u001b[39;00m \u001b[38;5;28menumerate\u001b[39m(\u001b[43mparallel\u001b[49m\u001b[43m(\u001b[49m\u001b[43mverify_image\u001b[49m\u001b[43m,\u001b[49m\u001b[43m \u001b[49m\u001b[43mfns\u001b[49m\u001b[43m)\u001b[49m) \u001b[38;5;28;01mif\u001b[39;00m \u001b[38;5;129;01mnot\u001b[39;00m o)\n",
      "File \u001b[1;32m~\\miniconda3\\envs\\torch_env\\lib\\site-packages\\fastcore\\parallel.py:117\u001b[0m, in \u001b[0;36mparallel\u001b[1;34m(f, items, n_workers, total, progress, pause, method, threadpool, timeout, chunksize, *args, **kwargs)\u001b[0m\n\u001b[0;32m    115\u001b[0m     \u001b[38;5;28;01mif\u001b[39;00m total \u001b[38;5;129;01mis\u001b[39;00m \u001b[38;5;28;01mNone\u001b[39;00m: total \u001b[38;5;241m=\u001b[39m \u001b[38;5;28mlen\u001b[39m(items)\n\u001b[0;32m    116\u001b[0m     r \u001b[38;5;241m=\u001b[39m progress_bar(r, total\u001b[38;5;241m=\u001b[39mtotal, leave\u001b[38;5;241m=\u001b[39m\u001b[38;5;28;01mFalse\u001b[39;00m)\n\u001b[1;32m--> 117\u001b[0m \u001b[38;5;28;01mreturn\u001b[39;00m \u001b[43mL\u001b[49m\u001b[43m(\u001b[49m\u001b[43mr\u001b[49m\u001b[43m)\u001b[49m\n",
      "File \u001b[1;32m~\\miniconda3\\envs\\torch_env\\lib\\site-packages\\fastcore\\foundation.py:98\u001b[0m, in \u001b[0;36m_L_Meta.__call__\u001b[1;34m(cls, x, *args, **kwargs)\u001b[0m\n\u001b[0;32m     96\u001b[0m \u001b[38;5;28;01mdef\u001b[39;00m \u001b[38;5;21m__call__\u001b[39m(\u001b[38;5;28mcls\u001b[39m, x\u001b[38;5;241m=\u001b[39m\u001b[38;5;28;01mNone\u001b[39;00m, \u001b[38;5;241m*\u001b[39margs, \u001b[38;5;241m*\u001b[39m\u001b[38;5;241m*\u001b[39mkwargs):\n\u001b[0;32m     97\u001b[0m     \u001b[38;5;28;01mif\u001b[39;00m \u001b[38;5;129;01mnot\u001b[39;00m args \u001b[38;5;129;01mand\u001b[39;00m \u001b[38;5;129;01mnot\u001b[39;00m kwargs \u001b[38;5;129;01mand\u001b[39;00m x \u001b[38;5;129;01mis\u001b[39;00m \u001b[38;5;129;01mnot\u001b[39;00m \u001b[38;5;28;01mNone\u001b[39;00m \u001b[38;5;129;01mand\u001b[39;00m \u001b[38;5;28misinstance\u001b[39m(x,\u001b[38;5;28mcls\u001b[39m): \u001b[38;5;28;01mreturn\u001b[39;00m x\n\u001b[1;32m---> 98\u001b[0m     \u001b[38;5;28;01mreturn\u001b[39;00m \u001b[38;5;28msuper\u001b[39m()\u001b[38;5;241m.\u001b[39m\u001b[38;5;21m__call__\u001b[39m(x, \u001b[38;5;241m*\u001b[39margs, \u001b[38;5;241m*\u001b[39m\u001b[38;5;241m*\u001b[39mkwargs)\n",
      "File \u001b[1;32m~\\miniconda3\\envs\\torch_env\\lib\\site-packages\\fastcore\\foundation.py:106\u001b[0m, in \u001b[0;36mL.__init__\u001b[1;34m(self, items, use_list, match, *rest)\u001b[0m\n\u001b[0;32m    104\u001b[0m \u001b[38;5;28;01mdef\u001b[39;00m \u001b[38;5;21m__init__\u001b[39m(\u001b[38;5;28mself\u001b[39m, items\u001b[38;5;241m=\u001b[39m\u001b[38;5;28;01mNone\u001b[39;00m, \u001b[38;5;241m*\u001b[39mrest, use_list\u001b[38;5;241m=\u001b[39m\u001b[38;5;28;01mFalse\u001b[39;00m, match\u001b[38;5;241m=\u001b[39m\u001b[38;5;28;01mNone\u001b[39;00m):\n\u001b[0;32m    105\u001b[0m     \u001b[38;5;28;01mif\u001b[39;00m (use_list \u001b[38;5;129;01mis\u001b[39;00m \u001b[38;5;129;01mnot\u001b[39;00m \u001b[38;5;28;01mNone\u001b[39;00m) \u001b[38;5;129;01mor\u001b[39;00m \u001b[38;5;129;01mnot\u001b[39;00m is_array(items):\n\u001b[1;32m--> 106\u001b[0m         items \u001b[38;5;241m=\u001b[39m \u001b[43mlistify\u001b[49m\u001b[43m(\u001b[49m\u001b[43mitems\u001b[49m\u001b[43m,\u001b[49m\u001b[43m \u001b[49m\u001b[38;5;241;43m*\u001b[39;49m\u001b[43mrest\u001b[49m\u001b[43m,\u001b[49m\u001b[43m \u001b[49m\u001b[43muse_list\u001b[49m\u001b[38;5;241;43m=\u001b[39;49m\u001b[43muse_list\u001b[49m\u001b[43m,\u001b[49m\u001b[43m \u001b[49m\u001b[43mmatch\u001b[49m\u001b[38;5;241;43m=\u001b[39;49m\u001b[43mmatch\u001b[49m\u001b[43m)\u001b[49m\n\u001b[0;32m    107\u001b[0m     \u001b[38;5;28msuper\u001b[39m()\u001b[38;5;241m.\u001b[39m\u001b[38;5;21m__init__\u001b[39m(items)\n",
      "File \u001b[1;32m~\\miniconda3\\envs\\torch_env\\lib\\site-packages\\fastcore\\basics.py:66\u001b[0m, in \u001b[0;36mlistify\u001b[1;34m(o, use_list, match, *rest)\u001b[0m\n\u001b[0;32m     64\u001b[0m \u001b[38;5;28;01melif\u001b[39;00m \u001b[38;5;28misinstance\u001b[39m(o, \u001b[38;5;28mlist\u001b[39m): res \u001b[38;5;241m=\u001b[39m o\n\u001b[0;32m     65\u001b[0m \u001b[38;5;28;01melif\u001b[39;00m \u001b[38;5;28misinstance\u001b[39m(o, \u001b[38;5;28mstr\u001b[39m) \u001b[38;5;129;01mor\u001b[39;00m is_array(o): res \u001b[38;5;241m=\u001b[39m [o]\n\u001b[1;32m---> 66\u001b[0m \u001b[38;5;28;01melif\u001b[39;00m is_iter(o): res \u001b[38;5;241m=\u001b[39m \u001b[38;5;28;43mlist\u001b[39;49m\u001b[43m(\u001b[49m\u001b[43mo\u001b[49m\u001b[43m)\u001b[49m\n\u001b[0;32m     67\u001b[0m \u001b[38;5;28;01melse\u001b[39;00m: res \u001b[38;5;241m=\u001b[39m [o]\n\u001b[0;32m     68\u001b[0m \u001b[38;5;28;01mif\u001b[39;00m match \u001b[38;5;129;01mis\u001b[39;00m \u001b[38;5;129;01mnot\u001b[39;00m \u001b[38;5;28;01mNone\u001b[39;00m:\n",
      "File \u001b[1;32m~\\miniconda3\\envs\\torch_env\\lib\\concurrent\\futures\\process.py:567\u001b[0m, in \u001b[0;36m_chain_from_iterable_of_lists\u001b[1;34m(iterable)\u001b[0m\n\u001b[0;32m    561\u001b[0m \u001b[38;5;28;01mdef\u001b[39;00m \u001b[38;5;21m_chain_from_iterable_of_lists\u001b[39m(iterable):\n\u001b[0;32m    562\u001b[0m     \u001b[38;5;124;03m\"\"\"\u001b[39;00m\n\u001b[0;32m    563\u001b[0m \u001b[38;5;124;03m    Specialized implementation of itertools.chain.from_iterable.\u001b[39;00m\n\u001b[0;32m    564\u001b[0m \u001b[38;5;124;03m    Each item in *iterable* should be a list.  This function is\u001b[39;00m\n\u001b[0;32m    565\u001b[0m \u001b[38;5;124;03m    careful not to keep references to yielded objects.\u001b[39;00m\n\u001b[0;32m    566\u001b[0m \u001b[38;5;124;03m    \"\"\"\u001b[39;00m\n\u001b[1;32m--> 567\u001b[0m     \u001b[38;5;28;01mfor\u001b[39;00m element \u001b[38;5;129;01min\u001b[39;00m iterable:\n\u001b[0;32m    568\u001b[0m         element\u001b[38;5;241m.\u001b[39mreverse()\n\u001b[0;32m    569\u001b[0m         \u001b[38;5;28;01mwhile\u001b[39;00m element:\n",
      "File \u001b[1;32m~\\miniconda3\\envs\\torch_env\\lib\\concurrent\\futures\\_base.py:609\u001b[0m, in \u001b[0;36mExecutor.map.<locals>.result_iterator\u001b[1;34m()\u001b[0m\n\u001b[0;32m    606\u001b[0m \u001b[38;5;28;01mwhile\u001b[39;00m fs:\n\u001b[0;32m    607\u001b[0m     \u001b[38;5;66;03m# Careful not to keep a reference to the popped future\u001b[39;00m\n\u001b[0;32m    608\u001b[0m     \u001b[38;5;28;01mif\u001b[39;00m timeout \u001b[38;5;129;01mis\u001b[39;00m \u001b[38;5;28;01mNone\u001b[39;00m:\n\u001b[1;32m--> 609\u001b[0m         \u001b[38;5;28;01myield\u001b[39;00m \u001b[43mfs\u001b[49m\u001b[38;5;241;43m.\u001b[39;49m\u001b[43mpop\u001b[49m\u001b[43m(\u001b[49m\u001b[43m)\u001b[49m\u001b[38;5;241;43m.\u001b[39;49m\u001b[43mresult\u001b[49m\u001b[43m(\u001b[49m\u001b[43m)\u001b[49m\n\u001b[0;32m    610\u001b[0m     \u001b[38;5;28;01melse\u001b[39;00m:\n\u001b[0;32m    611\u001b[0m         \u001b[38;5;28;01myield\u001b[39;00m fs\u001b[38;5;241m.\u001b[39mpop()\u001b[38;5;241m.\u001b[39mresult(end_time \u001b[38;5;241m-\u001b[39m time\u001b[38;5;241m.\u001b[39mmonotonic())\n",
      "File \u001b[1;32m~\\miniconda3\\envs\\torch_env\\lib\\concurrent\\futures\\_base.py:446\u001b[0m, in \u001b[0;36mFuture.result\u001b[1;34m(self, timeout)\u001b[0m\n\u001b[0;32m    444\u001b[0m     \u001b[38;5;28;01mraise\u001b[39;00m CancelledError()\n\u001b[0;32m    445\u001b[0m \u001b[38;5;28;01melif\u001b[39;00m \u001b[38;5;28mself\u001b[39m\u001b[38;5;241m.\u001b[39m_state \u001b[38;5;241m==\u001b[39m FINISHED:\n\u001b[1;32m--> 446\u001b[0m     \u001b[38;5;28;01mreturn\u001b[39;00m \u001b[38;5;28;43mself\u001b[39;49m\u001b[38;5;241;43m.\u001b[39;49m\u001b[43m__get_result\u001b[49m\u001b[43m(\u001b[49m\u001b[43m)\u001b[49m\n\u001b[0;32m    447\u001b[0m \u001b[38;5;28;01melse\u001b[39;00m:\n\u001b[0;32m    448\u001b[0m     \u001b[38;5;28;01mraise\u001b[39;00m \u001b[38;5;167;01mTimeoutError\u001b[39;00m()\n",
      "File \u001b[1;32m~\\miniconda3\\envs\\torch_env\\lib\\concurrent\\futures\\_base.py:391\u001b[0m, in \u001b[0;36mFuture.__get_result\u001b[1;34m(self)\u001b[0m\n\u001b[0;32m    389\u001b[0m \u001b[38;5;28;01mif\u001b[39;00m \u001b[38;5;28mself\u001b[39m\u001b[38;5;241m.\u001b[39m_exception:\n\u001b[0;32m    390\u001b[0m     \u001b[38;5;28;01mtry\u001b[39;00m:\n\u001b[1;32m--> 391\u001b[0m         \u001b[38;5;28;01mraise\u001b[39;00m \u001b[38;5;28mself\u001b[39m\u001b[38;5;241m.\u001b[39m_exception\n\u001b[0;32m    392\u001b[0m     \u001b[38;5;28;01mfinally\u001b[39;00m:\n\u001b[0;32m    393\u001b[0m         \u001b[38;5;66;03m# Break a reference cycle with the exception in self._exception\u001b[39;00m\n\u001b[0;32m    394\u001b[0m         \u001b[38;5;28mself\u001b[39m \u001b[38;5;241m=\u001b[39m \u001b[38;5;28;01mNone\u001b[39;00m\n",
      "\u001b[1;31mBrokenProcessPool\u001b[0m: A process in the process pool was terminated abruptly while the future was running or pending."
     ]
    }
   ],
   "source": [
    "file_paths = get_image_files(path)\n",
    "failed = verify_images(file_paths)\n",
    "failed.map(Path.unlink)\n",
    "len(failed)"
   ]
  },
  {
   "cell_type": "code",
   "execution_count": null,
   "id": "3f6c10fb",
   "metadata": {},
   "outputs": [],
   "source": []
  }
 ],
 "metadata": {
  "kernelspec": {
   "display_name": "Python 3 (ipykernel)",
   "language": "python",
   "name": "python3"
  },
  "language_info": {
   "codemirror_mode": {
    "name": "ipython",
    "version": 3
   },
   "file_extension": ".py",
   "mimetype": "text/x-python",
   "name": "python",
   "nbconvert_exporter": "python",
   "pygments_lexer": "ipython3",
   "version": "3.10.4"
  }
 },
 "nbformat": 4,
 "nbformat_minor": 5
}
